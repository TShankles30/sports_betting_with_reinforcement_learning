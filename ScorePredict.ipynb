{
  "nbformat": 4,
  "nbformat_minor": 0,
  "metadata": {
    "colab": {
      "name": "ScorePredict",
      "provenance": [],
      "include_colab_link": true
    },
    "kernelspec": {
      "name": "python3",
      "display_name": "Python 3"
    }
  },
  "cells": [
    {
      "cell_type": "markdown",
      "metadata": {
        "id": "view-in-github",
        "colab_type": "text"
      },
      "source": [
        "<a href=\"https://colab.research.google.com/github/TShankles30/sports_betting_with_reinforcement_learning/blob/master/ScorePredict.ipynb\" target=\"_parent\"><img src=\"https://colab.research.google.com/assets/colab-badge.svg\" alt=\"Open In Colab\"/></a>"
      ]
    },
    {
      "cell_type": "code",
      "metadata": {
        "id": "YmWgbs2_ZsJ7",
        "colab_type": "code",
        "colab": {}
      },
      "source": [
        "import numpy as np\n",
        "import seaborn as sns\n",
        "import pandas as pd\n",
        "import matplotlib.pyplot as plt\n",
        "import matplotlib as mpl\n",
        "import patsy\n",
        "\n",
        "import itertools as it\n",
        "import collections as co\n",
        "import functools as ft\n",
        "import os.path as osp\n",
        "\n",
        "import glob\n",
        "import textwrap"
      ],
      "execution_count": 0,
      "outputs": []
    },
    {
      "cell_type": "code",
      "metadata": {
        "id": "8pVV7q8SbmtR",
        "colab_type": "code",
        "colab": {}
      },
      "source": [
        "from sklearn import (cluster ,\n",
        "                     datasets ,\n",
        "                     decomposition ,\n",
        "                     discriminant_analysis ,\n",
        "                     dummy ,\n",
        "                     ensemble ,\n",
        "                     feature_selection as ftr_sel ,\n",
        "                     linear_model ,\n",
        "                     metrics ,\n",
        "                     model_selection as skms ,\n",
        "                     multiclass as skmulti ,\n",
        "                     naive_bayes ,\n",
        "                     neighbors ,\n",
        "                     pipeline ,\n",
        "                     preprocessing as skpre ,\n",
        "                     svm ,\n",
        "                     tree)"
      ],
      "execution_count": 0,
      "outputs": []
    },
    {
      "cell_type": "code",
      "metadata": {
        "id": "TI3cqXLHc5w5",
        "colab_type": "code",
        "colab": {}
      },
      "source": [
        "np.random.randint(1, 7)"
      ],
      "execution_count": 0,
      "outputs": []
    },
    {
      "cell_type": "code",
      "metadata": {
        "id": "SwwiAT6odcBZ",
        "colab_type": "code",
        "colab": {}
      },
      "source": [
        "few_rolls = np.random.randint(1 ,7, size=10)\n",
        "many_rolls = np.random.randint(1, 7, size=1000)"
      ],
      "execution_count": 0,
      "outputs": []
    },
    {
      "cell_type": "code",
      "metadata": {
        "id": "9fPyZW2edubU",
        "colab_type": "code",
        "colab": {
          "base_uri": "https://localhost:8080/",
          "height": 228
        },
        "outputId": "ff001cfa-b3e2-4010-eb2e-df6bc8b05f58"
      },
      "source": [
        "few_counts = np.histogram(few_rolls, bins=np.arange(.5, 7.5))[0]\n",
        "many_counts = np.histogram(many_rolls, bins=np.arange(.5, 7.5))[0]\n",
        "\n",
        "fig, (ax1, ax2) = plt.subplots(1, 2, figsize=(8, 3))\n",
        "ax1.bar(np.arange(1, 7), few_counts)\n",
        "ax2.bar(np.arange(1, 7), many_counts)"
      ],
      "execution_count": 7,
      "outputs": [
        {
          "output_type": "execute_result",
          "data": {
            "text/plain": [
              "<BarContainer object of 6 artists>"
            ]
          },
          "metadata": {
            "tags": []
          },
          "execution_count": 7
        },
        {
          "output_type": "display_data",
          "data": {
            "image/png": "[encoded data removed]",
            "text/plain": [
              "<Figure size 576x216 with 2 Axes>"
            ]
          },
          "metadata": {
            "tags": []
          }
        }
      ]
    },
    {
      "cell_type": "code",
      "metadata": {
        "id": "iXk2Lfbie7O6",
        "colab_type": "code",
        "colab": {
          "base_uri": "https://localhost:8080/",
          "height": 282
        },
        "outputId": "d80d254b-777f-42d5-fe5f-a544afe6fb8f"
      },
      "source": [
        "import scipy.stats as ss\n",
        "\n",
        "b = ss.distributions.binom\n",
        "for flips in [5, 10, 20, 40, 80]:\n",
        "  success = np.arange(flips)\n",
        "  our_distribution = b.pmf(success, flips, .5)\n",
        "  plt.hist(success, flips, weights=our_distribution)\n",
        "plt.xlim(0, 55)  "
      ],
      "execution_count": 12,
      "outputs": [
        {
          "output_type": "execute_result",
          "data": {
            "text/plain": [
              "(0, 55)"
            ]
          },
          "metadata": {
            "tags": []
          },
          "execution_count": 12
        },
        {
          "output_type": "display_data",
          "data": {
            "image/png": "[encoded data removed]",
            "text/plain": [
              "<Figure size 432x288 with 1 Axes>"
            ]
          },
          "metadata": {
            "tags": []
          }
        }
      ]
    },
    {
      "cell_type": "code",
      "metadata": {
        "id": "Qg0chNG9gJZ9",
        "colab_type": "code",
        "colab": {
          "base_uri": "https://localhost:8080/",
          "height": 85
        },
        "outputId": "30a99e9a-2f37-4f15-9653-3af8f68c0169"
      },
      "source": [
        "Away_offense = 20.0\n",
        "Away_defense = 17.0\n",
        "home_offense = 34.0\n",
        "home_defense = 12.5\n",
        "Aoff = Away_offense\n",
        "Boff = home_offense\n",
        "Adef = Away_defense\n",
        "Bdef = home_defense\n",
        "Ah = 3.5\n",
        "Bh = 4.0\n",
        "Ascore = Aoff - Bdef + (Ah + Bh) / 4\n",
        "Bscore = Boff - Adef - (Ah + Bh) / 4 \n",
        "Margin = Ascore - Bscore\n",
        "OverUnder = Ascore + Bscore\n",
        "\n",
        "\n",
        "print(Ascore)\n",
        "print(Bscore)\n",
        "print(Margin)\n",
        "print(OverUnder)\n"
      ],
      "execution_count": 19,
      "outputs": [
        {
          "output_type": "stream",
          "text": [
            "9.375\n",
            "15.125\n",
            "-5.75\n",
            "24.5\n"
          ],
          "name": "stdout"
        }
      ]
    }
  ]
}